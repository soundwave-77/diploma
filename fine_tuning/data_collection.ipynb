{
 "cells": [
  {
   "cell_type": "code",
   "execution_count": 1,
   "metadata": {
    "collapsed": true,
    "pycharm": {
     "name": "#%%\n"
    }
   },
   "outputs": [],
   "source": [
    "from datasets import load_dataset\n",
    "import pandas as pd"
   ]
  },
  {
   "cell_type": "code",
   "execution_count": 2,
   "outputs": [],
   "source": [
    "columns = ['premise', 'hypothesis', 'label']\n",
    "target_labels = [0, 1]"
   ],
   "metadata": {
    "collapsed": false,
    "pycharm": {
     "name": "#%%\n"
    }
   }
  },
  {
   "cell_type": "code",
   "execution_count": 3,
   "outputs": [
    {
     "data": {
      "text/plain": "                                           sentence1  \\\n0                           Кошка сидела на коврике.   \n1                        Кошка не сидела на коврике.   \n2  Когда у вас нет снега, очень сложно обучиться ...   \n3  Когда у вас есть снег, очень сложно обучиться ...   \n4  Сразу же после распаковки Ouya поддерживает му...   \n\n                                           sentence2 knowledge  \\\n0                        Кошка не сидела на коврике.             \n1                           Кошка сидела на коврике.             \n2  Когда у вас есть снег, очень сложно обучиться ...             \n3  Когда у вас нет снега, очень сложно обучиться ...             \n4  Сразу же после распаковки Ouya не поддерживает...             \n\n  lexical-semantics     logic predicate-argument-structure  idx  label  \n0                    Negation                                 0      1  \n1                    Negation                                 1      1  \n2                    Negation                                 2      1  \n3                    Negation                                 3      1  \n4                    Negation                                 4      1  ",
      "text/html": "<div>\n<style scoped>\n    .dataframe tbody tr th:only-of-type {\n        vertical-align: middle;\n    }\n\n    .dataframe tbody tr th {\n        vertical-align: top;\n    }\n\n    .dataframe thead th {\n        text-align: right;\n    }\n</style>\n<table border=\"1\" class=\"dataframe\">\n  <thead>\n    <tr style=\"text-align: right;\">\n      <th></th>\n      <th>sentence1</th>\n      <th>sentence2</th>\n      <th>knowledge</th>\n      <th>lexical-semantics</th>\n      <th>logic</th>\n      <th>predicate-argument-structure</th>\n      <th>idx</th>\n      <th>label</th>\n    </tr>\n  </thead>\n  <tbody>\n    <tr>\n      <th>0</th>\n      <td>Кошка сидела на коврике.</td>\n      <td>Кошка не сидела на коврике.</td>\n      <td></td>\n      <td></td>\n      <td>Negation</td>\n      <td></td>\n      <td>0</td>\n      <td>1</td>\n    </tr>\n    <tr>\n      <th>1</th>\n      <td>Кошка не сидела на коврике.</td>\n      <td>Кошка сидела на коврике.</td>\n      <td></td>\n      <td></td>\n      <td>Negation</td>\n      <td></td>\n      <td>1</td>\n      <td>1</td>\n    </tr>\n    <tr>\n      <th>2</th>\n      <td>Когда у вас нет снега, очень сложно обучиться ...</td>\n      <td>Когда у вас есть снег, очень сложно обучиться ...</td>\n      <td></td>\n      <td></td>\n      <td>Negation</td>\n      <td></td>\n      <td>2</td>\n      <td>1</td>\n    </tr>\n    <tr>\n      <th>3</th>\n      <td>Когда у вас есть снег, очень сложно обучиться ...</td>\n      <td>Когда у вас нет снега, очень сложно обучиться ...</td>\n      <td></td>\n      <td></td>\n      <td>Negation</td>\n      <td></td>\n      <td>3</td>\n      <td>1</td>\n    </tr>\n    <tr>\n      <th>4</th>\n      <td>Сразу же после распаковки Ouya поддерживает му...</td>\n      <td>Сразу же после распаковки Ouya не поддерживает...</td>\n      <td></td>\n      <td></td>\n      <td>Negation</td>\n      <td></td>\n      <td>4</td>\n      <td>1</td>\n    </tr>\n  </tbody>\n</table>\n</div>"
     },
     "execution_count": 3,
     "metadata": {},
     "output_type": "execute_result"
    }
   ],
   "source": [
    "lidirus = load_dataset('RussianNLP/russian_super_glue', name='lidirus', split='test').to_pandas()\n",
    "lidirus.head()"
   ],
   "metadata": {
    "collapsed": false,
    "pycharm": {
     "name": "#%%\n"
    }
   }
  },
  {
   "cell_type": "code",
   "execution_count": 4,
   "outputs": [
    {
     "data": {
      "text/plain": "                                             premise  \\\n0                           Кошка сидела на коврике.   \n1                        Кошка не сидела на коврике.   \n2  Когда у вас нет снега, очень сложно обучиться ...   \n3  Когда у вас есть снег, очень сложно обучиться ...   \n4  Сразу же после распаковки Ouya поддерживает му...   \n\n                                          hypothesis knowledge  \\\n0                        Кошка не сидела на коврике.             \n1                           Кошка сидела на коврике.             \n2  Когда у вас есть снег, очень сложно обучиться ...             \n3  Когда у вас нет снега, очень сложно обучиться ...             \n4  Сразу же после распаковки Ouya не поддерживает...             \n\n  lexical-semantics     logic predicate-argument-structure  idx  label  \n0                    Negation                                 0      1  \n1                    Negation                                 1      1  \n2                    Negation                                 2      1  \n3                    Negation                                 3      1  \n4                    Negation                                 4      1  ",
      "text/html": "<div>\n<style scoped>\n    .dataframe tbody tr th:only-of-type {\n        vertical-align: middle;\n    }\n\n    .dataframe tbody tr th {\n        vertical-align: top;\n    }\n\n    .dataframe thead th {\n        text-align: right;\n    }\n</style>\n<table border=\"1\" class=\"dataframe\">\n  <thead>\n    <tr style=\"text-align: right;\">\n      <th></th>\n      <th>premise</th>\n      <th>hypothesis</th>\n      <th>knowledge</th>\n      <th>lexical-semantics</th>\n      <th>logic</th>\n      <th>predicate-argument-structure</th>\n      <th>idx</th>\n      <th>label</th>\n    </tr>\n  </thead>\n  <tbody>\n    <tr>\n      <th>0</th>\n      <td>Кошка сидела на коврике.</td>\n      <td>Кошка не сидела на коврике.</td>\n      <td></td>\n      <td></td>\n      <td>Negation</td>\n      <td></td>\n      <td>0</td>\n      <td>1</td>\n    </tr>\n    <tr>\n      <th>1</th>\n      <td>Кошка не сидела на коврике.</td>\n      <td>Кошка сидела на коврике.</td>\n      <td></td>\n      <td></td>\n      <td>Negation</td>\n      <td></td>\n      <td>1</td>\n      <td>1</td>\n    </tr>\n    <tr>\n      <th>2</th>\n      <td>Когда у вас нет снега, очень сложно обучиться ...</td>\n      <td>Когда у вас есть снег, очень сложно обучиться ...</td>\n      <td></td>\n      <td></td>\n      <td>Negation</td>\n      <td></td>\n      <td>2</td>\n      <td>1</td>\n    </tr>\n    <tr>\n      <th>3</th>\n      <td>Когда у вас есть снег, очень сложно обучиться ...</td>\n      <td>Когда у вас нет снега, очень сложно обучиться ...</td>\n      <td></td>\n      <td></td>\n      <td>Negation</td>\n      <td></td>\n      <td>3</td>\n      <td>1</td>\n    </tr>\n    <tr>\n      <th>4</th>\n      <td>Сразу же после распаковки Ouya поддерживает му...</td>\n      <td>Сразу же после распаковки Ouya не поддерживает...</td>\n      <td></td>\n      <td></td>\n      <td>Negation</td>\n      <td></td>\n      <td>4</td>\n      <td>1</td>\n    </tr>\n  </tbody>\n</table>\n</div>"
     },
     "execution_count": 4,
     "metadata": {},
     "output_type": "execute_result"
    }
   ],
   "source": [
    "lidirus.rename(columns={'sentence1': 'premise', 'sentence2': 'hypothesis'}, inplace=True)\n",
    "lidirus.head()"
   ],
   "metadata": {
    "collapsed": false,
    "pycharm": {
     "name": "#%%\n"
    }
   }
  },
  {
   "cell_type": "code",
   "execution_count": 5,
   "outputs": [
    {
     "data": {
      "text/plain": "                                             premise  \\\n0                           Кошка сидела на коврике.   \n1                        Кошка не сидела на коврике.   \n2  Когда у вас нет снега, очень сложно обучиться ...   \n3  Когда у вас есть снег, очень сложно обучиться ...   \n4  Сразу же после распаковки Ouya поддерживает му...   \n\n                                          hypothesis  label  \n0                        Кошка не сидела на коврике.      1  \n1                           Кошка сидела на коврике.      1  \n2  Когда у вас есть снег, очень сложно обучиться ...      1  \n3  Когда у вас нет снега, очень сложно обучиться ...      1  \n4  Сразу же после распаковки Ouya не поддерживает...      1  ",
      "text/html": "<div>\n<style scoped>\n    .dataframe tbody tr th:only-of-type {\n        vertical-align: middle;\n    }\n\n    .dataframe tbody tr th {\n        vertical-align: top;\n    }\n\n    .dataframe thead th {\n        text-align: right;\n    }\n</style>\n<table border=\"1\" class=\"dataframe\">\n  <thead>\n    <tr style=\"text-align: right;\">\n      <th></th>\n      <th>premise</th>\n      <th>hypothesis</th>\n      <th>label</th>\n    </tr>\n  </thead>\n  <tbody>\n    <tr>\n      <th>0</th>\n      <td>Кошка сидела на коврике.</td>\n      <td>Кошка не сидела на коврике.</td>\n      <td>1</td>\n    </tr>\n    <tr>\n      <th>1</th>\n      <td>Кошка не сидела на коврике.</td>\n      <td>Кошка сидела на коврике.</td>\n      <td>1</td>\n    </tr>\n    <tr>\n      <th>2</th>\n      <td>Когда у вас нет снега, очень сложно обучиться ...</td>\n      <td>Когда у вас есть снег, очень сложно обучиться ...</td>\n      <td>1</td>\n    </tr>\n    <tr>\n      <th>3</th>\n      <td>Когда у вас есть снег, очень сложно обучиться ...</td>\n      <td>Когда у вас нет снега, очень сложно обучиться ...</td>\n      <td>1</td>\n    </tr>\n    <tr>\n      <th>4</th>\n      <td>Сразу же после распаковки Ouya поддерживает му...</td>\n      <td>Сразу же после распаковки Ouya не поддерживает...</td>\n      <td>1</td>\n    </tr>\n  </tbody>\n</table>\n</div>"
     },
     "execution_count": 5,
     "metadata": {},
     "output_type": "execute_result"
    }
   ],
   "source": [
    "lidirus = lidirus[columns]\n",
    "lidirus.head()"
   ],
   "metadata": {
    "collapsed": false,
    "pycharm": {
     "name": "#%%\n"
    }
   }
  },
  {
   "cell_type": "code",
   "execution_count": 6,
   "outputs": [
    {
     "data": {
      "text/plain": "                                             premise  \\\n0  Сумма ущерба составила одну тысячу рублей. Уто...   \n1  Перебрасываясь словечками, они скользят глазам...   \n2  — Разве что, — сказала она, — мы хотим где-ниб...   \n3             Зима, наконец, показала свой характер.   \n4  ГуманностьБогаподобнымсценариемнепредполагаетс...   \n\n                                          hypothesis      verb     negation  \\\n0  Ранее местный житель совершал подобное правона...    судить  no_negation   \n1                                Они что-то понимают  смотреть  no_negation   \n2              Это “ Таганская ”, а не “ Тульская ”.    понять  no_negation   \n3                         У зимы есть свой характер.  показать  no_negation   \n4                            Это должно быть просто.   сказать  no_negation   \n\n   idx  label  \n0    0      0  \n1    1      1  \n2    2      2  \n3    3      1  \n4    4      1  ",
      "text/html": "<div>\n<style scoped>\n    .dataframe tbody tr th:only-of-type {\n        vertical-align: middle;\n    }\n\n    .dataframe tbody tr th {\n        vertical-align: top;\n    }\n\n    .dataframe thead th {\n        text-align: right;\n    }\n</style>\n<table border=\"1\" class=\"dataframe\">\n  <thead>\n    <tr style=\"text-align: right;\">\n      <th></th>\n      <th>premise</th>\n      <th>hypothesis</th>\n      <th>verb</th>\n      <th>negation</th>\n      <th>idx</th>\n      <th>label</th>\n    </tr>\n  </thead>\n  <tbody>\n    <tr>\n      <th>0</th>\n      <td>Сумма ущерба составила одну тысячу рублей. Уто...</td>\n      <td>Ранее местный житель совершал подобное правона...</td>\n      <td>судить</td>\n      <td>no_negation</td>\n      <td>0</td>\n      <td>0</td>\n    </tr>\n    <tr>\n      <th>1</th>\n      <td>Перебрасываясь словечками, они скользят глазам...</td>\n      <td>Они что-то понимают</td>\n      <td>смотреть</td>\n      <td>no_negation</td>\n      <td>1</td>\n      <td>1</td>\n    </tr>\n    <tr>\n      <th>2</th>\n      <td>— Разве что, — сказала она, — мы хотим где-ниб...</td>\n      <td>Это “ Таганская ”, а не “ Тульская ”.</td>\n      <td>понять</td>\n      <td>no_negation</td>\n      <td>2</td>\n      <td>2</td>\n    </tr>\n    <tr>\n      <th>3</th>\n      <td>Зима, наконец, показала свой характер.</td>\n      <td>У зимы есть свой характер.</td>\n      <td>показать</td>\n      <td>no_negation</td>\n      <td>3</td>\n      <td>1</td>\n    </tr>\n    <tr>\n      <th>4</th>\n      <td>ГуманностьБогаподобнымсценариемнепредполагаетс...</td>\n      <td>Это должно быть просто.</td>\n      <td>сказать</td>\n      <td>no_negation</td>\n      <td>4</td>\n      <td>1</td>\n    </tr>\n  </tbody>\n</table>\n</div>"
     },
     "execution_count": 6,
     "metadata": {},
     "output_type": "execute_result"
    }
   ],
   "source": [
    "rcb = load_dataset('RussianNLP/russian_super_glue', name='rcb', split='train+validation').to_pandas()\n",
    "rcb.head()"
   ],
   "metadata": {
    "collapsed": false,
    "pycharm": {
     "name": "#%%\n"
    }
   }
  },
  {
   "cell_type": "code",
   "execution_count": 7,
   "outputs": [
    {
     "data": {
      "text/plain": "                                             premise  \\\n0  Сумма ущерба составила одну тысячу рублей. Уто...   \n1  Перебрасываясь словечками, они скользят глазам...   \n2  — Разве что, — сказала она, — мы хотим где-ниб...   \n3             Зима, наконец, показала свой характер.   \n4  ГуманностьБогаподобнымсценариемнепредполагаетс...   \n\n                                          hypothesis  label  \n0  Ранее местный житель совершал подобное правона...      0  \n1                                Они что-то понимают      1  \n2              Это “ Таганская ”, а не “ Тульская ”.      2  \n3                         У зимы есть свой характер.      1  \n4                            Это должно быть просто.      1  ",
      "text/html": "<div>\n<style scoped>\n    .dataframe tbody tr th:only-of-type {\n        vertical-align: middle;\n    }\n\n    .dataframe tbody tr th {\n        vertical-align: top;\n    }\n\n    .dataframe thead th {\n        text-align: right;\n    }\n</style>\n<table border=\"1\" class=\"dataframe\">\n  <thead>\n    <tr style=\"text-align: right;\">\n      <th></th>\n      <th>premise</th>\n      <th>hypothesis</th>\n      <th>label</th>\n    </tr>\n  </thead>\n  <tbody>\n    <tr>\n      <th>0</th>\n      <td>Сумма ущерба составила одну тысячу рублей. Уто...</td>\n      <td>Ранее местный житель совершал подобное правона...</td>\n      <td>0</td>\n    </tr>\n    <tr>\n      <th>1</th>\n      <td>Перебрасываясь словечками, они скользят глазам...</td>\n      <td>Они что-то понимают</td>\n      <td>1</td>\n    </tr>\n    <tr>\n      <th>2</th>\n      <td>— Разве что, — сказала она, — мы хотим где-ниб...</td>\n      <td>Это “ Таганская ”, а не “ Тульская ”.</td>\n      <td>2</td>\n    </tr>\n    <tr>\n      <th>3</th>\n      <td>Зима, наконец, показала свой характер.</td>\n      <td>У зимы есть свой характер.</td>\n      <td>1</td>\n    </tr>\n    <tr>\n      <th>4</th>\n      <td>ГуманностьБогаподобнымсценариемнепредполагаетс...</td>\n      <td>Это должно быть просто.</td>\n      <td>1</td>\n    </tr>\n  </tbody>\n</table>\n</div>"
     },
     "execution_count": 7,
     "metadata": {},
     "output_type": "execute_result"
    }
   ],
   "source": [
    "rcb = rcb[columns]\n",
    "rcb.head()"
   ],
   "metadata": {
    "collapsed": false,
    "pycharm": {
     "name": "#%%\n"
    }
   }
  },
  {
   "cell_type": "code",
   "execution_count": 8,
   "outputs": [
    {
     "data": {
      "text/plain": "                                             premise  \\\n0  Женщину доставили в больницу, за ее жизнь сейч...   \n1  Он проводит невидимую грань между настоящим и ...   \n2  Мужчина рассказал: детская коляска, принадлежа...   \n3  Я просто об этом даже не думаю, потому что есл...   \n4  В ходе проверки нашли дома с наледью и сосульк...   \n\n                                       hypothesis  idx  label  \n0                          Женщину спасают врачи.    0      0  \n1        В эти минуты все мы подводим друг друга.    1      1  \n2  Сосед часто крадет детские коляски ради денег.    2      1  \n3                          Спрятаться не удастся.    3      0  \n4                 Все сосульки с крыш были сбиты.    4      1  ",
      "text/html": "<div>\n<style scoped>\n    .dataframe tbody tr th:only-of-type {\n        vertical-align: middle;\n    }\n\n    .dataframe tbody tr th {\n        vertical-align: top;\n    }\n\n    .dataframe thead th {\n        text-align: right;\n    }\n</style>\n<table border=\"1\" class=\"dataframe\">\n  <thead>\n    <tr style=\"text-align: right;\">\n      <th></th>\n      <th>premise</th>\n      <th>hypothesis</th>\n      <th>idx</th>\n      <th>label</th>\n    </tr>\n  </thead>\n  <tbody>\n    <tr>\n      <th>0</th>\n      <td>Женщину доставили в больницу, за ее жизнь сейч...</td>\n      <td>Женщину спасают врачи.</td>\n      <td>0</td>\n      <td>0</td>\n    </tr>\n    <tr>\n      <th>1</th>\n      <td>Он проводит невидимую грань между настоящим и ...</td>\n      <td>В эти минуты все мы подводим друг друга.</td>\n      <td>1</td>\n      <td>1</td>\n    </tr>\n    <tr>\n      <th>2</th>\n      <td>Мужчина рассказал: детская коляска, принадлежа...</td>\n      <td>Сосед часто крадет детские коляски ради денег.</td>\n      <td>2</td>\n      <td>1</td>\n    </tr>\n    <tr>\n      <th>3</th>\n      <td>Я просто об этом даже не думаю, потому что есл...</td>\n      <td>Спрятаться не удастся.</td>\n      <td>3</td>\n      <td>0</td>\n    </tr>\n    <tr>\n      <th>4</th>\n      <td>В ходе проверки нашли дома с наледью и сосульк...</td>\n      <td>Все сосульки с крыш были сбиты.</td>\n      <td>4</td>\n      <td>1</td>\n    </tr>\n  </tbody>\n</table>\n</div>"
     },
     "execution_count": 8,
     "metadata": {},
     "output_type": "execute_result"
    }
   ],
   "source": [
    "terra = load_dataset('RussianNLP/russian_super_glue', name='terra', split='train+validation').to_pandas()\n",
    "terra.head()"
   ],
   "metadata": {
    "collapsed": false,
    "pycharm": {
     "name": "#%%\n"
    }
   }
  },
  {
   "cell_type": "code",
   "execution_count": 9,
   "outputs": [
    {
     "data": {
      "text/plain": "                                             premise  \\\n0  Женщину доставили в больницу, за ее жизнь сейч...   \n1  Он проводит невидимую грань между настоящим и ...   \n2  Мужчина рассказал: детская коляска, принадлежа...   \n3  Я просто об этом даже не думаю, потому что есл...   \n4  В ходе проверки нашли дома с наледью и сосульк...   \n\n                                       hypothesis  label  \n0                          Женщину спасают врачи.      0  \n1        В эти минуты все мы подводим друг друга.      1  \n2  Сосед часто крадет детские коляски ради денег.      1  \n3                          Спрятаться не удастся.      0  \n4                 Все сосульки с крыш были сбиты.      1  ",
      "text/html": "<div>\n<style scoped>\n    .dataframe tbody tr th:only-of-type {\n        vertical-align: middle;\n    }\n\n    .dataframe tbody tr th {\n        vertical-align: top;\n    }\n\n    .dataframe thead th {\n        text-align: right;\n    }\n</style>\n<table border=\"1\" class=\"dataframe\">\n  <thead>\n    <tr style=\"text-align: right;\">\n      <th></th>\n      <th>premise</th>\n      <th>hypothesis</th>\n      <th>label</th>\n    </tr>\n  </thead>\n  <tbody>\n    <tr>\n      <th>0</th>\n      <td>Женщину доставили в больницу, за ее жизнь сейч...</td>\n      <td>Женщину спасают врачи.</td>\n      <td>0</td>\n    </tr>\n    <tr>\n      <th>1</th>\n      <td>Он проводит невидимую грань между настоящим и ...</td>\n      <td>В эти минуты все мы подводим друг друга.</td>\n      <td>1</td>\n    </tr>\n    <tr>\n      <th>2</th>\n      <td>Мужчина рассказал: детская коляска, принадлежа...</td>\n      <td>Сосед часто крадет детские коляски ради денег.</td>\n      <td>1</td>\n    </tr>\n    <tr>\n      <th>3</th>\n      <td>Я просто об этом даже не думаю, потому что есл...</td>\n      <td>Спрятаться не удастся.</td>\n      <td>0</td>\n    </tr>\n    <tr>\n      <th>4</th>\n      <td>В ходе проверки нашли дома с наледью и сосульк...</td>\n      <td>Все сосульки с крыш были сбиты.</td>\n      <td>1</td>\n    </tr>\n  </tbody>\n</table>\n</div>"
     },
     "execution_count": 9,
     "metadata": {},
     "output_type": "execute_result"
    }
   ],
   "source": [
    "terra = terra[columns]\n",
    "terra.head()"
   ],
   "metadata": {
    "collapsed": false,
    "pycharm": {
     "name": "#%%\n"
    }
   }
  },
  {
   "cell_type": "code",
   "execution_count": 10,
   "outputs": [
    {
     "data": {
      "text/plain": "4685"
     },
     "execution_count": 10,
     "metadata": {},
     "output_type": "execute_result"
    }
   ],
   "source": [
    "terra.shape[0] + rcb.shape[0] + lidirus.shape[0]"
   ],
   "metadata": {
    "collapsed": false,
    "pycharm": {
     "name": "#%%\n"
    }
   }
  },
  {
   "cell_type": "code",
   "execution_count": 11,
   "outputs": [
    {
     "data": {
      "text/plain": "array([1, 0])"
     },
     "execution_count": 11,
     "metadata": {},
     "output_type": "execute_result"
    }
   ],
   "source": [
    "lidirus['label'].unique()"
   ],
   "metadata": {
    "collapsed": false,
    "pycharm": {
     "name": "#%%\n"
    }
   }
  },
  {
   "cell_type": "code",
   "execution_count": 12,
   "outputs": [
    {
     "data": {
      "text/plain": "array([0, 1, 2])"
     },
     "execution_count": 12,
     "metadata": {},
     "output_type": "execute_result"
    }
   ],
   "source": [
    "rcb['label'].unique()"
   ],
   "metadata": {
    "collapsed": false,
    "pycharm": {
     "name": "#%%\n"
    }
   }
  },
  {
   "cell_type": "code",
   "execution_count": 13,
   "outputs": [
    {
     "data": {
      "text/plain": "Empty DataFrame\nColumns: [premise, hypothesis, label]\nIndex: []",
      "text/html": "<div>\n<style scoped>\n    .dataframe tbody tr th:only-of-type {\n        vertical-align: middle;\n    }\n\n    .dataframe tbody tr th {\n        vertical-align: top;\n    }\n\n    .dataframe thead th {\n        text-align: right;\n    }\n</style>\n<table border=\"1\" class=\"dataframe\">\n  <thead>\n    <tr style=\"text-align: right;\">\n      <th></th>\n      <th>premise</th>\n      <th>hypothesis</th>\n      <th>label</th>\n    </tr>\n  </thead>\n  <tbody>\n  </tbody>\n</table>\n</div>"
     },
     "execution_count": 13,
     "metadata": {},
     "output_type": "execute_result"
    }
   ],
   "source": [
    "terra[terra['label'] == -1]"
   ],
   "metadata": {
    "collapsed": false,
    "pycharm": {
     "name": "#%%\n"
    }
   }
  },
  {
   "cell_type": "code",
   "execution_count": 14,
   "outputs": [],
   "source": [
    "data = pd.concat([lidirus, rcb, terra], ignore_index=True)\n",
    "data = data[data['label'].isin(target_labels)].sample(frac=1).reset_index()"
   ],
   "metadata": {
    "collapsed": false,
    "pycharm": {
     "name": "#%%\n"
    }
   }
  },
  {
   "cell_type": "code",
   "execution_count": 15,
   "outputs": [
    {
     "data": {
      "text/plain": "   index                                            premise  \\\n0   2283  Оперативники выехали на место происшествия и в...   \n1    670  Я думаю, это часть заключительного сезона \"Кон...   \n2   3167  Злоумышленники начали работать распространител...   \n3    217  В этой игре для ПК, Шреддер и черепашки сражаю...   \n4    664  Имеет плохие отзывы на Amazon, но клип был сме...   \n\n                                          hypothesis  label  \n0                 Преступник подобрал ключи к замку.      0  \n1  Я думаю, это часть заключительного эпизода \"Ко...      1  \n2           Злоумышленники распространяли наркотики.      0  \n3  В этой игре для ПК, Шреддер сражается с черепа...      0  \n4                                  Клип был смешной.      0  ",
      "text/html": "<div>\n<style scoped>\n    .dataframe tbody tr th:only-of-type {\n        vertical-align: middle;\n    }\n\n    .dataframe tbody tr th {\n        vertical-align: top;\n    }\n\n    .dataframe thead th {\n        text-align: right;\n    }\n</style>\n<table border=\"1\" class=\"dataframe\">\n  <thead>\n    <tr style=\"text-align: right;\">\n      <th></th>\n      <th>index</th>\n      <th>premise</th>\n      <th>hypothesis</th>\n      <th>label</th>\n    </tr>\n  </thead>\n  <tbody>\n    <tr>\n      <th>0</th>\n      <td>2283</td>\n      <td>Оперативники выехали на место происшествия и в...</td>\n      <td>Преступник подобрал ключи к замку.</td>\n      <td>0</td>\n    </tr>\n    <tr>\n      <th>1</th>\n      <td>670</td>\n      <td>Я думаю, это часть заключительного сезона \"Кон...</td>\n      <td>Я думаю, это часть заключительного эпизода \"Ко...</td>\n      <td>1</td>\n    </tr>\n    <tr>\n      <th>2</th>\n      <td>3167</td>\n      <td>Злоумышленники начали работать распространител...</td>\n      <td>Злоумышленники распространяли наркотики.</td>\n      <td>0</td>\n    </tr>\n    <tr>\n      <th>3</th>\n      <td>217</td>\n      <td>В этой игре для ПК, Шреддер и черепашки сражаю...</td>\n      <td>В этой игре для ПК, Шреддер сражается с черепа...</td>\n      <td>0</td>\n    </tr>\n    <tr>\n      <th>4</th>\n      <td>664</td>\n      <td>Имеет плохие отзывы на Amazon, но клип был сме...</td>\n      <td>Клип был смешной.</td>\n      <td>0</td>\n    </tr>\n  </tbody>\n</table>\n</div>"
     },
     "execution_count": 15,
     "metadata": {},
     "output_type": "execute_result"
    }
   ],
   "source": [
    "data.head()"
   ],
   "metadata": {
    "collapsed": false,
    "pycharm": {
     "name": "#%%\n"
    }
   }
  },
  {
   "cell_type": "code",
   "execution_count": 16,
   "outputs": [
    {
     "data": {
      "text/plain": "(4366, 4)"
     },
     "execution_count": 16,
     "metadata": {},
     "output_type": "execute_result"
    }
   ],
   "source": [
    "data.shape"
   ],
   "metadata": {
    "collapsed": false,
    "pycharm": {
     "name": "#%%\n"
    }
   }
  },
  {
   "cell_type": "code",
   "execution_count": 17,
   "outputs": [
    {
     "data": {
      "text/plain": "label\n0    2200\n1    2166\nName: count, dtype: int64"
     },
     "execution_count": 17,
     "metadata": {},
     "output_type": "execute_result"
    }
   ],
   "source": [
    "data['label'].value_counts()"
   ],
   "metadata": {
    "collapsed": false,
    "pycharm": {
     "name": "#%%\n"
    }
   }
  },
  {
   "cell_type": "code",
   "execution_count": 18,
   "outputs": [],
   "source": [
    "data['premise'] = data['premise'].replace(\n",
    "        to_replace=r\"[^a-zA-Zа-яА-ЯёЁ0-9.,!?;:@#№%$^&*()—\\-_+={}\\[\\]|/<>\\\\«»'\\\"’“ ]+\",\n",
    "        value=\"\",\n",
    "        regex=True\n",
    "    )"
   ],
   "metadata": {
    "collapsed": false,
    "pycharm": {
     "name": "#%%\n"
    }
   }
  },
  {
   "cell_type": "code",
   "execution_count": 19,
   "outputs": [],
   "source": [
    "data['hypothesis'] = data['hypothesis'].replace(\n",
    "        to_replace=r\"[^a-zA-Zа-яА-ЯёЁ0-9.,!?;:@#№%$^&*()—\\-_+={}\\[\\]|/<>\\\\«»'\\\"’“ ]+\",\n",
    "        value=\"\",\n",
    "        regex=True\n",
    "    )"
   ],
   "metadata": {
    "collapsed": false,
    "pycharm": {
     "name": "#%%\n"
    }
   }
  },
  {
   "cell_type": "code",
   "execution_count": 20,
   "outputs": [
    {
     "data": {
      "text/plain": "   index                                            premise  \\\n0   2283  Оперативники выехали на место происшествия и в...   \n1    670  Я думаю, это часть заключительного сезона \"Кон...   \n2   3167  Злоумышленники начали работать распространител...   \n3    217  В этой игре для ПК, Шреддер и черепашки сражаю...   \n4    664  Имеет плохие отзывы на Amazon, но клип был сме...   \n\n                                          hypothesis  label  \n0                 Преступник подобрал ключи к замку.      0  \n1  Я думаю, это часть заключительного эпизода \"Ко...      1  \n2           Злоумышленники распространяли наркотики.      0  \n3  В этой игре для ПК, Шреддер сражается с черепа...      0  \n4                                  Клип был смешной.      0  ",
      "text/html": "<div>\n<style scoped>\n    .dataframe tbody tr th:only-of-type {\n        vertical-align: middle;\n    }\n\n    .dataframe tbody tr th {\n        vertical-align: top;\n    }\n\n    .dataframe thead th {\n        text-align: right;\n    }\n</style>\n<table border=\"1\" class=\"dataframe\">\n  <thead>\n    <tr style=\"text-align: right;\">\n      <th></th>\n      <th>index</th>\n      <th>premise</th>\n      <th>hypothesis</th>\n      <th>label</th>\n    </tr>\n  </thead>\n  <tbody>\n    <tr>\n      <th>0</th>\n      <td>2283</td>\n      <td>Оперативники выехали на место происшествия и в...</td>\n      <td>Преступник подобрал ключи к замку.</td>\n      <td>0</td>\n    </tr>\n    <tr>\n      <th>1</th>\n      <td>670</td>\n      <td>Я думаю, это часть заключительного сезона \"Кон...</td>\n      <td>Я думаю, это часть заключительного эпизода \"Ко...</td>\n      <td>1</td>\n    </tr>\n    <tr>\n      <th>2</th>\n      <td>3167</td>\n      <td>Злоумышленники начали работать распространител...</td>\n      <td>Злоумышленники распространяли наркотики.</td>\n      <td>0</td>\n    </tr>\n    <tr>\n      <th>3</th>\n      <td>217</td>\n      <td>В этой игре для ПК, Шреддер и черепашки сражаю...</td>\n      <td>В этой игре для ПК, Шреддер сражается с черепа...</td>\n      <td>0</td>\n    </tr>\n    <tr>\n      <th>4</th>\n      <td>664</td>\n      <td>Имеет плохие отзывы на Amazon, но клип был сме...</td>\n      <td>Клип был смешной.</td>\n      <td>0</td>\n    </tr>\n  </tbody>\n</table>\n</div>"
     },
     "execution_count": 20,
     "metadata": {},
     "output_type": "execute_result"
    }
   ],
   "source": [
    "data.head()"
   ],
   "metadata": {
    "collapsed": false,
    "pycharm": {
     "name": "#%%\n"
    }
   }
  },
  {
   "cell_type": "code",
   "execution_count": 21,
   "outputs": [],
   "source": [
    "data.to_csv('clean_russian_super_glue_data.csv', index=False)"
   ],
   "metadata": {
    "collapsed": false,
    "pycharm": {
     "name": "#%%\n"
    }
   }
  },
  {
   "cell_type": "code",
   "execution_count": null,
   "outputs": [],
   "source": [],
   "metadata": {
    "collapsed": false,
    "pycharm": {
     "name": "#%%\n"
    }
   }
  }
 ],
 "metadata": {
  "kernelspec": {
   "display_name": "Python 3",
   "language": "python",
   "name": "python3"
  },
  "language_info": {
   "codemirror_mode": {
    "name": "ipython",
    "version": 2
   },
   "file_extension": ".py",
   "mimetype": "text/x-python",
   "name": "python",
   "nbconvert_exporter": "python",
   "pygments_lexer": "ipython2",
   "version": "2.7.6"
  }
 },
 "nbformat": 4,
 "nbformat_minor": 0
}